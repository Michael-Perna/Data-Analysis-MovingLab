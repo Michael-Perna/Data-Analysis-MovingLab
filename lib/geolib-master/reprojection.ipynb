{
 "cells": [
  {
   "cell_type": "markdown",
   "metadata": {},
   "source": [
    "# NetR9 Reprojection"
   ]
  },
  {
   "cell_type": "code",
   "execution_count": 1,
   "metadata": {},
   "outputs": [],
   "source": [
    "from import_df import NmeaDf\n",
    "import swiss_projection\n",
    "import numpy as np\n",
    "import pandas as pd"
   ]
  },
  {
   "cell_type": "code",
   "execution_count": 2,
   "metadata": {},
   "outputs": [],
   "source": [
    "def degmin2deg(degmin):\n",
    "    a, b = str(degmin).split('.')\n",
    "    d = int(a[:-2])\n",
    "    m = float(a[-2:] + '.'+ b)\n",
    "\n",
    "    degrees = d + m/60\n",
    "    #rad = degrees*180/np.pi\n",
    "    return degrees"
   ]
  },
  {
   "cell_type": "code",
   "execution_count": 8,
   "metadata": {},
   "outputs": [],
   "source": [
    "# dataframe with the coordinates\n",
    "filepath = \"../2021/January/29/swipos_NetR9.nmea\"\n",
    "timeseries = NmeaDf(filepath)\n",
    "df = timeseries.getDataFrame()\n",
    "\n",
    "# Drop rows where there is no coordinates\n",
    "df = df.dropna(subset=['lat', 'lon', 'lat']).reset_index(drop=True)"
   ]
  },
  {
   "cell_type": "markdown",
   "metadata": {},
   "source": [
    "## GLL\n",
    "| name      | Format     | example    |\n",
    "|-----------|------------|------------|\n",
    "| latitute  | ddmm.mmmmm | 4717.11364 |\n",
    "| longitute | ddmm.mmmmm | 09231.00   |\n",
    "| height    |            |            |"
   ]
  },
  {
   "cell_type": "code",
   "execution_count": 10,
   "metadata": {},
   "outputs": [
    {
     "data": {
      "text/plain": [
       "array([[4610.48513929],\n",
       "       [4610.4851066 ],\n",
       "       [4610.48509111],\n",
       "       ...,\n",
       "       [4610.51781052],\n",
       "       [4610.52165115],\n",
       "       [4610.51093071]])"
      ]
     },
     "execution_count": 10,
     "metadata": {},
     "output_type": "execute_result"
    }
   ],
   "source": []
  },
  {
   "cell_type": "code",
   "execution_count": 9,
   "metadata": {},
   "outputs": [],
   "source": [
    "# Dataframe to matrix\n",
    "lon =  pd.DataFrame(df['lon']).to_numpy()\n",
    "lat =  pd.DataFrame(df['lat']).to_numpy()\n",
    "alt =  pd.DataFrame(df['alt']).to_numpy()\n",
    "\n",
    "# Creation of a matrix len(lat) x 3\n",
    "#llh = np.concatenate((lon,lat,alt), axis=1)\n",
    "# Converstion to lv95\n",
    "lv95 = np.zeros((len(lon),3)) # Pre-allocate matrix\n",
    "for i in range(len(alt)):\n",
    "    # Convert in degree (nmea format)\n",
    "    llh = [degmin2deg(lon[i].tolist()[0]), degmin2deg(lat[i].tolist()[0]), alt[i].tolist()[0]]\n",
    "    \n",
    "    lv95[i, :] = swiss_projection.wgs84_to_lv95(llh)"
   ]
  },
  {
   "cell_type": "code",
   "execution_count": 6,
   "metadata": {},
   "outputs": [],
   "source": [
    "# convert array into dataframe \n",
    "df_out = pd.DataFrame(lv95, columns=['Latitude', 'Longitude', 'Altitude']) \n",
    "df_out['timestamp']=df['timestamp']\n",
    "df_out['diffAgeGP']=df['diffAgeGP']\n",
    "df_out['fixMode']=df['posMode']\n",
    "\n",
    "# save the dataframe as a csv file \n",
    "df_out.to_csv(\"../tracks/sapcorda.csv\")"
   ]
  }
 ],
 "metadata": {
  "kernelspec": {
   "display_name": "Python 3",
   "language": "python",
   "name": "python3"
  },
  "language_info": {
   "codemirror_mode": {
    "name": "ipython",
    "version": 3
   },
   "file_extension": ".py",
   "mimetype": "text/x-python",
   "name": "python",
   "nbconvert_exporter": "python",
   "pygments_lexer": "ipython3",
   "version": "3.8.8"
  }
 },
 "nbformat": 4,
 "nbformat_minor": 4
}
